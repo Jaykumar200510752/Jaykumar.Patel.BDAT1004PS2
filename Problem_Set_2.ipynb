{
 "cells": [
  {
   "cell_type": "markdown",
   "id": "a28d0b2a",
   "metadata": {},
   "source": [
    "# Problem Set 2"
   ]
  },
  {
   "cell_type": "markdown",
   "id": "c12ec596",
   "metadata": {},
   "source": [
    "# Question 1\n",
    "\n",
    "### This problem set is based on lectures 4,5 and 6. For a complete list of topics please consult page 2 of the course syllabus. Please consult the “Instructions for Problem Set Submissions” document under course information before submitting your assignment.\n",
    "\n",
    "Consider the following Python module:\n",
    "a = 0\n",
    "def b():\n",
    " global a\n",
    " a = c(a)\n",
    "def c(a):\n",
    " return a + 2\n",
    " \n",
    "After importing the module into the interpreter, you execute:\n",
    "\n",
    " b()\n",
    "\n",
    " b()\n",
    "\n",
    " b()\n",
    "\n",
    " a\n",
    "\n",
    "What value is displayed when the last expression (a) is evaluated? Explain your \n",
    "answer by indicating what happens in every executed statement."
   ]
  },
  {
   "cell_type": "markdown",
   "id": "03452c34",
   "metadata": {},
   "source": [
    "#first statement \n",
    "\n",
    "1. It calls the function b() wherein global variable 'a' is defined. It become the function c(a) with argument a. \n",
    "\n",
    "2. The function c() return the value 2 back to function b() and global variable 'a' has now value 2 b()"
   ]
  },
  {
   "cell_type": "markdown",
   "id": "a00e1218",
   "metadata": {},
   "source": [
    "#Second statement \n",
    "\n",
    "1. It again call the function b() wherein global variable 'a' is defined. However, this time the global variable 'a' has value 2 after first statement\n",
    "\n",
    "2. It then calls the function c(a) with argument a \n",
    "\n",
    "Example Value 2\n",
    "\n",
    "3. The function c() returns the value 4 (2+2) back to function b() and global variable 'a' has now value 4"
   ]
  },
  {
   "cell_type": "markdown",
   "id": "af3d66e3",
   "metadata": {},
   "source": [
    "#Third statement\n",
    "\n",
    "1. It calls the function b() where global variable 'a' is defined. Now, this time the global variable 'a' has value 4 after second statement \n",
    "\n",
    "2. The function c(a) with argument a Ex. value 4\n",
    "\n",
    "3. The funtion c(a) returns the value (4+2) back to function b() and global variable 'a' has now value 6"
   ]
  },
  {
   "cell_type": "markdown",
   "id": "1ce4c2e2",
   "metadata": {},
   "source": [
    "#Final statement\n",
    "\n",
    "1. The global variable 'a' has the value 6 after respective 1st, 2nd and 3rd statements executed as mention above statement.\n",
    "\n",
    "2. We execute a, it displays the value 6 as shown below"
   ]
  },
  {
   "cell_type": "code",
   "execution_count": 66,
   "id": "073bfdb8",
   "metadata": {},
   "outputs": [
    {
     "data": {
      "text/plain": [
       "6"
      ]
     },
     "execution_count": 66,
     "metadata": {},
     "output_type": "execute_result"
    }
   ],
   "source": [
    "a = 0\n",
    "def b():\n",
    "    global a\n",
    "    a = c(a)\n",
    "\n",
    "def c(a):\n",
    "    return a + 2\n",
    "\n",
    "b();\n",
    "b();\n",
    "b();\n",
    "a"
   ]
  },
  {
   "cell_type": "markdown",
   "id": "3da3d425",
   "metadata": {},
   "source": [
    "# Question 2\n",
    "\n",
    "### Function fileLength(), given to you, takes the name of a file as input and returns the length of the file:\n",
    "\n",
    "### fileLength('midterm.py')\n",
    "\n",
    "#### Output 284\n",
    "\n",
    "### fileLength('idterm.py')\n",
    "\n",
    "Traceback (most recent call last):\n",
    "File \"<pyshell#34>\", line 1, in <module>\n",
    " fileLength('idterm.py')\n",
    "File \"/Users/me/midterm.py\", line 3, in fileLength\n",
    " infile = open(filename)\n",
    "FileNotFoundError: [Errno 2] No such file or directory: \n",
    "'idterm.py'\n",
    "\n",
    "As shown above, if the file cannot be found by the interpreter or if it cannot be read \n",
    "as a text file, an exception will be raised. Modify function fileLength() so that a \n",
    "friendly message is printed instead:\n",
    "    \n",
    "### fileLength('midterm.py')\n",
    "\n",
    "#### Output : 358\n",
    "\n",
    "### fileLength('idterm.py')\n",
    "\n",
    "#### Output : File idterm.py not found."
   ]
  },
  {
   "cell_type": "code",
   "execution_count": 42,
   "id": "099e5884",
   "metadata": {},
   "outputs": [
    {
     "name": "stdout",
     "output_type": "stream",
     "text": [
      "33\n"
     ]
    }
   ],
   "source": [
    "def fileLength(file_name):\n",
    "    \n",
    "     try:\n",
    "         file = open(file_name)\n",
    "         contents = file.read()\n",
    "         file.close()\n",
    "         print(len(contents))\n",
    "        \n",
    "     except FileNotFoundError:\n",
    "         # This will be executed when a FileNotFoundError exception is raised\n",
    "         print('File {} not found.'.format(file_name)) \n",
    "        \n",
    "a = \"mid_term.py\";\n",
    "fileLength(a);"
   ]
  },
  {
   "cell_type": "code",
   "execution_count": 43,
   "id": "bcdd594b",
   "metadata": {},
   "outputs": [
    {
     "name": "stdout",
     "output_type": "stream",
     "text": [
      "File id_term.py not found.\n"
     ]
    }
   ],
   "source": [
    "a = \"id_term.py\";\n",
    "fileLength(a);"
   ]
  },
  {
   "cell_type": "markdown",
   "id": "ca2d938d",
   "metadata": {},
   "source": [
    "# Question 3\n",
    "\n",
    "### Write a class named Marsupial that can be used as shown below:\n",
    "\n",
    " m = Marsupial()\n",
    "\n",
    " m.put_in_pouch('doll')\n",
    "\n",
    " m.put_in_pouch('firetruck')\n",
    "\n",
    " m.put_in_pouch('kitten')\n",
    "\n",
    " m.pouch_contents()\n",
    " \n",
    "#### Output  : ['doll', 'firetruck', 'kitten']\n",
    "\n",
    "Now write a class named Kangaroo as a subclass of Marsupial that inherits all the \n",
    "attributes of Marsupial and also:\n",
    "\n",
    "### a. extends the Marsupial __init__ constructor to take, as input, the coordinates x and y of the Kangaroo object,\n",
    "\n",
    "\n",
    " k = Kangaroo(0,0)\n",
    " \n",
    " print(k)\n",
    "\n",
    "#### Output  : I am a Kangaroo located at coordinates (0,0)\n",
    "\n",
    "### b. supports method jump that takes number values dx and dy as input and moves the kangaroo by dx units along the x-axis and by dy units along the y\u0002axis,\n",
    "\n",
    " k.put_in_pouch('doll')\n",
    " \n",
    " k.put_in_pouch('firetruck')\n",
    " \n",
    " k.put_in_pouch('kitten')\n",
    " \n",
    " k.pouch_contents()\n",
    "\n",
    "#### Output : ['doll', 'firetruck', 'kitten']\n",
    "\n",
    "### c. overloads the __str__ operator so it behaves as shown below.\n",
    "\n",
    " k.jump(1,0)\n",
    " \n",
    " k.jump(1,0)\n",
    " \n",
    " k.jump(1,0)\n",
    " \n",
    " print(k)\n",
    "\n",
    "#### Output : I am a Kangaroo located at coordinates (3,0)"
   ]
  },
  {
   "cell_type": "code",
   "execution_count": 44,
   "id": "3012dcb3",
   "metadata": {},
   "outputs": [
    {
     "name": "stdout",
     "output_type": "stream",
     "text": [
      "['doll', 'firetruck', 'kitten']\n"
     ]
    }
   ],
   "source": [
    "class Marsupial():\n",
    "    \n",
    "    def __init__(self):\n",
    "        self.myList = []\n",
    "    \n",
    "    def put_in_pouch(self, item):\n",
    "        self.myList.append(item)\n",
    "    \n",
    "    def pouch_contents(self):\n",
    "        print(self.myList)\n",
    "\n",
    "m = Marsupial()\n",
    "m.put_in_pouch('doll')            \n",
    "m.put_in_pouch('firetruck')      \n",
    "m.put_in_pouch('kitten')         \n",
    "m.pouch_contents()"
   ]
  },
  {
   "cell_type": "code",
   "execution_count": 45,
   "id": "7a269803",
   "metadata": {},
   "outputs": [
    {
     "name": "stdout",
     "output_type": "stream",
     "text": [
      "I am a Kangaroo located at coordinates (0,0)\n"
     ]
    }
   ],
   "source": [
    "class Kangaroo(Marsupial):\n",
    "    \n",
    "    def __init__(self, x=0, y=0):\n",
    "          Marsupial.__init__(self)\n",
    "          self.x = x\n",
    "          self.y = y\n",
    "        \n",
    "    def jump(self, dx=0, dy=0):\n",
    "        self.x += dx\n",
    "        self.y += dy\n",
    "        \n",
    "    def __str__(self):\n",
    "        return 'I am a Kangaroo located at coordinates ({},{})'.format(self.x, self.y)\n",
    "\n",
    "k = Kangaroo(0,0)         \n",
    "print(k) "
   ]
  },
  {
   "cell_type": "code",
   "execution_count": 46,
   "id": "8b65562b",
   "metadata": {},
   "outputs": [
    {
     "name": "stdout",
     "output_type": "stream",
     "text": [
      "['doll', 'firetruck', 'kitten']\n"
     ]
    }
   ],
   "source": [
    "# Following set of provided set of statements to be executed\n",
    "\n",
    "k.put_in_pouch('doll')            \n",
    "k.put_in_pouch('firetruck')       \n",
    "k.put_in_pouch('kitten')          \n",
    "k.pouch_contents()      "
   ]
  },
  {
   "cell_type": "code",
   "execution_count": 47,
   "id": "907b2bb1",
   "metadata": {},
   "outputs": [
    {
     "name": "stdout",
     "output_type": "stream",
     "text": [
      "I am a Kangaroo located at coordinates (3,0)\n"
     ]
    }
   ],
   "source": [
    "# Following set of provided set of statements to be executed\n",
    "\n",
    "k.jump(1,0)         \n",
    "k.jump(1,0)        \n",
    "k.jump(1,0)         \n",
    "print(k)"
   ]
  },
  {
   "cell_type": "markdown",
   "id": "67e4e627",
   "metadata": {},
   "source": [
    "# Question 4\n",
    "\n",
    "### Write function collatz() that takes a positive integer x as input and prints the Collatz sequence starting at x. A Collatz sequence is obtained by repeatedly applying this rule to the previous number x in the sequence:\n",
    "\n",
    "x = 𝑥/2     𝑖𝑓 𝑥 𝑖𝑠 𝑒𝑣𝑒𝑛\n",
    "    3𝑥 + 1  𝑖𝑓 𝑥 𝑖𝑠 𝑜𝑑𝑑\n",
    "\n",
    "Your function should stop when the sequence gets to number 1. Your \n",
    "implementation must be recursive, without any loops.\n",
    "\n",
    "collatz(1)\n",
    "\n",
    "1\n",
    "\n",
    "collatz(10)\n",
    "\n",
    "10\n",
    "\n",
    "5\n",
    "\n",
    "16\n",
    "\n",
    "8\n",
    "\n",
    "4\n",
    "\n",
    "2\n",
    "\n",
    "1"
   ]
  },
  {
   "cell_type": "code",
   "execution_count": 48,
   "id": "8e667b9b",
   "metadata": {},
   "outputs": [
    {
     "name": "stdout",
     "output_type": "stream",
     "text": [
      "enter a positive number: 10\n",
      "10\n",
      "5\n",
      "16\n",
      "8\n",
      "4\n",
      "2\n",
      "1\n"
     ]
    }
   ],
   "source": [
    "def collatz(a):\n",
    "    if (a == 1):        \n",
    "        print(1)\n",
    "    \n",
    "    elif (a < 1):        \n",
    "        print(\"enter any positive number\")\n",
    "        \n",
    "    elif (a % 2 == 0):    \n",
    "        print(int(a))     \n",
    "        a = a/2           \n",
    "        collatz(a)        \n",
    "        \n",
    "    else:                 \n",
    "        print(int(a))     \n",
    "        a = (a*3) + 1     \n",
    "        collatz(a)        \n",
    "            \n",
    "j = int(input(\"enter a positive number: \"))\n",
    "collatz(j)"
   ]
  },
  {
   "cell_type": "code",
   "execution_count": 49,
   "id": "82539e3a",
   "metadata": {},
   "outputs": [
    {
     "name": "stdout",
     "output_type": "stream",
     "text": [
      "enter a positive number: 1\n",
      "1\n"
     ]
    }
   ],
   "source": [
    "m = int(input(\"enter a positive number: \"))\n",
    "collatz(m)"
   ]
  },
  {
   "cell_type": "markdown",
   "id": "2ccd67bc",
   "metadata": {},
   "source": [
    "# Question 5\n",
    "\n",
    "### Write a recursive method binary() that takes a non-negative integer n and prints the binary representation of integer n.\n",
    "\n",
    " binary(0)\n",
    " \n",
    "0\n",
    "\n",
    " binary(1)\n",
    "\n",
    "1\n",
    "\n",
    " binary(3)\n",
    "\n",
    "11\n",
    "\n",
    " binary(9)\n",
    "\n",
    "1001"
   ]
  },
  {
   "cell_type": "code",
   "execution_count": 50,
   "id": "40e5acd2",
   "metadata": {},
   "outputs": [
    {
     "name": "stdout",
     "output_type": "stream",
     "text": [
      "0"
     ]
    }
   ],
   "source": [
    "def binary(n):\n",
    "   if n > 1:\n",
    "       binary(n//2)\n",
    "   print(n % 2,end = '')\n",
    "binary(0)\n",
    "\n"
   ]
  },
  {
   "cell_type": "code",
   "execution_count": 51,
   "id": "bae5e622",
   "metadata": {},
   "outputs": [
    {
     "name": "stdout",
     "output_type": "stream",
     "text": [
      "1"
     ]
    }
   ],
   "source": [
    "binary(1)"
   ]
  },
  {
   "cell_type": "code",
   "execution_count": 52,
   "id": "d7bbdc65",
   "metadata": {},
   "outputs": [
    {
     "name": "stdout",
     "output_type": "stream",
     "text": [
      "11"
     ]
    }
   ],
   "source": [
    "binary(3)"
   ]
  },
  {
   "cell_type": "code",
   "execution_count": 53,
   "id": "ebc8d1fb",
   "metadata": {},
   "outputs": [
    {
     "name": "stdout",
     "output_type": "stream",
     "text": [
      "1001"
     ]
    }
   ],
   "source": [
    "binary(9)"
   ]
  },
  {
   "cell_type": "markdown",
   "id": "c3f45141",
   "metadata": {},
   "source": [
    "# Question 6\n",
    "\n",
    "### Implement a class named HeadingParser that can be used to parse an HTML document, and retrieve and print all the headings in the document. You should implement your class as a subclass of HTMLParser, defined in Standard Library module html.parser. When fed a string containing HTML code, your class should print the headings, one per line and in the order in which they appear in the document. Each heading should be indented as follows: an h1 heading should have indentation 0, and h2 heading should have indentation 1, etc. Test your implementation using w3c.html.\n",
    "\n",
    "infile = open('w3c.html')\n",
    "\n",
    "content = infile.read()\n",
    "\n",
    "infile.close()\n",
    "\n",
    "hp = HeadingParser()\n",
    "\n",
    "hp.feed(content)\n",
    "\n",
    "#### Output:-\n",
    "W3C Mission\n",
    "Principles"
   ]
  },
  {
   "cell_type": "code",
   "execution_count": 54,
   "id": "58c4e633",
   "metadata": {},
   "outputs": [
    {
     "name": "stdout",
     "output_type": "stream",
     "text": [
      "W3C Mission\n",
      " Principles\n"
     ]
    }
   ],
   "source": [
    "from html.parser import HTMLParser\n",
    "\n",
    "\n",
    "class HeadingParser(HTMLParser):\n",
    "\n",
    "    c = 0      \n",
    "    i = 0     \n",
    "    \n",
    "    def handle_starttag(self, tag, attrs):\n",
    "        if tag in ['h1', 'h2', 'h3', 'h4', 'h5', 'h6']:\n",
    "            self.c = 1                     \n",
    "\n",
    "    def handle_data(self, data):\n",
    "         if self.c == 1:\n",
    "            print(data.rjust(len(data) + self.i), end ='\\n') \n",
    "            \n",
    "    def handle_endtag(self, tag):\n",
    "        if tag in ['h1', 'h2', 'h3', 'h4', 'h5', 'h6', 'h7', 'h8', 'h9']:\n",
    "            self.c = 0                    \n",
    "            self.i +=1   \n",
    "        \n",
    "infile = open(\"w3c.html\")  \n",
    "content = infile.read() \n",
    "infile.close() \n",
    "hp = HeadingParser() \n",
    "hp.feed(content)"
   ]
  },
  {
   "cell_type": "markdown",
   "id": "530c9e46",
   "metadata": {},
   "source": [
    "# Question 8\n",
    "\n",
    "### Write SQL queries on the below database table that return:\n",
    "\n",
    "a) All the temperature data.\n",
    "b) All the cities, but without repetition.\n",
    "c) All the records for India.\n",
    "d) All the Fall records.\n",
    "e) The city, country, and season for which the average rainfall is between 200 \n",
    "and 400 millimeters.\n",
    "f) The city and country for which the average Fall temperature is above 20 \n",
    "degrees, in increasing temperature order.\n",
    "g) The total annual rainfall for Cairo.\n",
    "h) The total rainfall for each season.\n",
    "\n",
    "## Data\n",
    "City   Country        Season       Temperature (C) Rainfall (mm)\n",
    "Mumbai India          Winter         24.8              5.9 \n",
    "Mumbai India          Spring         28.4              16.2 \n",
    "Mumbai India          Summer         27.9             1549.4 \n",
    "Mumbai India          Fall           27.6              346.0 \n",
    "London United Kingdom Winter         4.2               207.7 \n",
    "London United Kingdom Spring         8.3               169.6 \n",
    "London United Kingdom Summer         15.7              157.0 \n",
    "London United Kingdom Fall           10.4              218.5 \n",
    "Cairo  Egypt          Winter         13.6              16.5 \n",
    "Cairo  Egypt          Spring         20.7              6.5 \n",
    "Cairo  Egypt          Summer         27.7              0.1 \n",
    "Cairo  Egypt          Fall           22.2              4.5"
   ]
  },
  {
   "cell_type": "code",
   "execution_count": 55,
   "id": "89958f04",
   "metadata": {},
   "outputs": [
    {
     "data": {
      "text/plain": [
       "[('Mumbai', 'India', 'Winter', 24.8, 5.9),\n",
       " ('Mumbai', 'India', 'Spring', 28.4, 16.2),\n",
       " ('Mumbai', 'India', 'Summer', 27.9, 1549.4),\n",
       " ('Mumbai', 'India', 'Fall', 27.6, 346.0),\n",
       " ('London', 'United Kindom', 'Winter', 4.2, 207.7),\n",
       " ('London', 'United Kindom', 'Spring', 8.3, 169.6),\n",
       " ('London', 'United Kindom', 'Summer', 15.7, 157.0),\n",
       " ('London', 'United Kindom', 'Fall', 10.4, 218.5),\n",
       " ('Cairo', 'Egypt', 'Winter', 13.6, 16.5),\n",
       " ('Cairo', 'Egypt', 'Spring', 20.7, 6.5),\n",
       " ('Cairo', 'Egypt', 'Summer', 27.7, 0.1),\n",
       " ('Cairo', 'Egypt', 'Fall', 22.2, 4.5)]"
      ]
     },
     "execution_count": 55,
     "metadata": {},
     "output_type": "execute_result"
    }
   ],
   "source": [
    "import sqlite3\n",
    "con = sqlite3.connect('cInfo.db')\n",
    "cur = con.cursor()\n",
    "cur.execute(\"CREATE TABLE IF NOT EXISTS cityInfo (City text, Country text, Season text, Temperature double, Rainfall double)\")\n",
    "cur.execute(\"INSERT INTO cityInfo VALUES ('Mumbai', 'India', 'Winter', 24.8, 5.9), ('Mumbai','India', 'Spring', 28.4, 16.2), ('Mumbai','India', 'Summer', 27.9, 1549.4), ('Mumbai','India', 'Fall', 27.6, 346.0)\")\n",
    "cur.execute(\"INSERT INTO cityInfo VALUES ('London', 'United Kindom', 'Winter', 4.2, 207.7), ('London', 'United Kindom', 'Spring', 8.3, 169.6), ('London', 'United Kindom', 'Summer', 15.7, 157.0), ('London', 'United Kindom', 'Fall', 10.4, 218.5)\")\n",
    "cur.execute(\"INSERT INTO cityInfo VALUES ('Cairo', 'Egypt', 'Winter', 13.6, 16.5), ('Cairo', 'Egypt', 'Spring', 20.7, 6.5), ('Cairo', 'Egypt', 'Summer', 27.7, 0.1), ('Cairo', 'Egypt', 'Fall', 22.2, 4.5)\")\n",
    "\n",
    "cur.execute('SELECT * FROM cityInfo')\n",
    "cur.fetchall()"
   ]
  },
  {
   "cell_type": "code",
   "execution_count": 56,
   "id": "6b8c586a",
   "metadata": {},
   "outputs": [
    {
     "data": {
      "text/plain": [
       "[(24.8,),\n",
       " (28.4,),\n",
       " (27.9,),\n",
       " (27.6,),\n",
       " (4.2,),\n",
       " (8.3,),\n",
       " (15.7,),\n",
       " (10.4,),\n",
       " (13.6,),\n",
       " (20.7,),\n",
       " (27.7,),\n",
       " (22.2,)]"
      ]
     },
     "execution_count": 56,
     "metadata": {},
     "output_type": "execute_result"
    }
   ],
   "source": [
    "cur.execute('SELECT Temperature FROM cityInfo')\n",
    "cur.fetchall()"
   ]
  },
  {
   "cell_type": "code",
   "execution_count": 57,
   "id": "598bda22",
   "metadata": {},
   "outputs": [
    {
     "data": {
      "text/plain": [
       "[('Mumbai',), ('London',), ('Cairo',)]"
      ]
     },
     "execution_count": 57,
     "metadata": {},
     "output_type": "execute_result"
    }
   ],
   "source": [
    "cur.execute('SELECT DISTINCT(City) FROM cityInfo')\n",
    "cur.fetchall()"
   ]
  },
  {
   "cell_type": "code",
   "execution_count": 58,
   "id": "c276da2d",
   "metadata": {},
   "outputs": [
    {
     "data": {
      "text/plain": [
       "[('Mumbai', 'India', 'Winter', 24.8, 5.9),\n",
       " ('Mumbai', 'India', 'Spring', 28.4, 16.2),\n",
       " ('Mumbai', 'India', 'Summer', 27.9, 1549.4),\n",
       " ('Mumbai', 'India', 'Fall', 27.6, 346.0)]"
      ]
     },
     "execution_count": 58,
     "metadata": {},
     "output_type": "execute_result"
    }
   ],
   "source": [
    "cur.execute('SELECT * FROM cityInfo where Country = \"India\"')\n",
    "cur.fetchall()"
   ]
  },
  {
   "cell_type": "code",
   "execution_count": 59,
   "id": "8c5bb2c6",
   "metadata": {},
   "outputs": [
    {
     "data": {
      "text/plain": [
       "[('Mumbai', 'India', 'Fall', 27.6, 346.0),\n",
       " ('London', 'United Kindom', 'Fall', 10.4, 218.5),\n",
       " ('Cairo', 'Egypt', 'Fall', 22.2, 4.5)]"
      ]
     },
     "execution_count": 59,
     "metadata": {},
     "output_type": "execute_result"
    }
   ],
   "source": [
    "cur.execute('SELECT * from cityInfo where Season=\"Fall\"')\n",
    "cur.fetchall()"
   ]
  },
  {
   "cell_type": "code",
   "execution_count": 60,
   "id": "611deb0b",
   "metadata": {},
   "outputs": [
    {
     "data": {
      "text/plain": [
       "[('London', 'United Kindom', 'Fall', 218.5),\n",
       " ('London', 'United Kindom', 'Winter', 207.7),\n",
       " ('Mumbai', 'India', 'Fall', 346.0)]"
      ]
     },
     "execution_count": 60,
     "metadata": {},
     "output_type": "execute_result"
    }
   ],
   "source": [
    "cur.execute('SELECT City,Country,Season, AVG(Rainfall) FROM cityInfo GROUP BY City, Country, Season having AVG(Rainfall)>200 and AVG(Rainfall)<400 ')\n",
    "cur.fetchall()"
   ]
  },
  {
   "cell_type": "code",
   "execution_count": 61,
   "id": "8a377acf",
   "metadata": {},
   "outputs": [
    {
     "data": {
      "text/plain": [
       "[('Cairo', 'Egypt', 23.53333333333333),\n",
       " ('Mumbai', 'India', 27.174999999999997)]"
      ]
     },
     "execution_count": 61,
     "metadata": {},
     "output_type": "execute_result"
    }
   ],
   "source": [
    "cur.execute('SELECT City, Country, AVG(Temperature) FROM cityInfo where Temperature > 20 GROUP BY City, Country HAVING AVG(Temperature) > 20 ORDER By Temperature ASC')\n",
    "cur.fetchall()"
   ]
  },
  {
   "cell_type": "code",
   "execution_count": 62,
   "id": "7c1cf0b3",
   "metadata": {},
   "outputs": [
    {
     "data": {
      "text/plain": [
       "[(27.6,)]"
      ]
     },
     "execution_count": 62,
     "metadata": {},
     "output_type": "execute_result"
    }
   ],
   "source": [
    "cur.execute('SELECT SUM(Rainfall) FROM cityInfo WHERE City = \"Cairo\"')\n",
    "cur.fetchall()"
   ]
  },
  {
   "cell_type": "code",
   "execution_count": 63,
   "id": "1aca6bb2",
   "metadata": {},
   "outputs": [
    {
     "data": {
      "text/plain": [
       "[('Fall', 569.0),\n",
       " ('Spring', 192.29999999999998),\n",
       " ('Summer', 1706.5),\n",
       " ('Winter', 230.1)]"
      ]
     },
     "execution_count": 63,
     "metadata": {},
     "output_type": "execute_result"
    }
   ],
   "source": [
    "cur.execute('SELECT Season, SUM(Rainfall) FROM cityInfo GROUP BY Season')\n",
    "cur.fetchall()"
   ]
  },
  {
   "cell_type": "markdown",
   "id": "5186e9eb",
   "metadata": {},
   "source": [
    "# Question 9\n",
    "\n",
    "### Suppose list words is defined as follows:\n",
    "\n",
    "words = ['The', 'quick', 'brown', 'fox', 'jumps', 'over', \n",
    "'the', 'lazy', 'dog']\n",
    "\n",
    "### Write list comprehension expressions that use list words and generate the following lists:\n",
    "\n",
    "a) ['THE', 'QUICK', 'BROWN', 'FOX', 'JUMPS', 'OVER', 'THE', \n",
    "'LAZY', 'DOG']\n",
    "\n",
    "b) ['the', 'quick', 'brown', 'fox', 'jumps', 'over', 'the', \n",
    "'lazy', 'dog']\n",
    "\n",
    "c) [3, 5, 5, 3, 5, 4, 3, 4, 3] (the list of lengths of words in list \n",
    "words).\n",
    "\n",
    "d) [['THE', 'the', 3], ['QUICK', 'quick', 5], ['BROWN', \n",
    "'brown', 5], ['FOX', 'fox', 3], ['JUMPS', 'jumps', 5], \n",
    "['OVER', 'over', 4], ['THE', 'the', 3], ['LAZY', 'lazy', \n",
    "4], ['DOG', 'dog', 3]] (the list containing a list for every word of list \n",
    "words, where each list contains the word in uppercase and lowercase and the \n",
    "length of the word.)\n",
    "\n",
    "e) ['The', 'quick', 'brown', 'fox', 'jumps', 'over', 'the', \n",
    "'lazy', 'dog'] (the list of words in list words containing 4 or more \n",
    "characters.)"
   ]
  },
  {
   "cell_type": "code",
   "execution_count": 65,
   "id": "306e2bc0",
   "metadata": {},
   "outputs": [
    {
     "name": "stdout",
     "output_type": "stream",
     "text": [
      "['THE', 'QUICK', 'BROWN', 'FOX', 'JUMPS', 'OVER', 'THE', 'LAZY', 'DOG']\n",
      "['the', 'quick', 'brown', 'fox', 'jumps', 'over', 'the', 'lazy', 'dog']\n",
      "[3, 5, 5, 3, 5, 4, 3, 4, 3]\n",
      "[['THE', 'the', 3], ['QUICK', 'quick', 5], ['BROWN', 'brown', 5], ['FOX', 'fox', 3], ['JUMPS', 'jumps', 5], ['OVER', 'over', 4], ['THE', 'the', 3], ['LAZY', 'lazy', 4], ['DOG', 'dog', 3]]\n",
      "['quick', 'brown', 'jumps', 'over', 'lazy']\n"
     ]
    }
   ],
   "source": [
    "words = ['The', 'quick', 'brown', 'fox', 'jumps', 'over', 'the', 'lazy', 'dog']\n",
    "words_upper = [item.upper() for item in words]\n",
    "print (words_upper)\n",
    "words_lower = [item.lower() for item in words]\n",
    "print (words_lower)\n",
    "word_len = [len(item) for item in words]\n",
    "print(word_len)\n",
    "list_of_all = [[x, y , z] for x, y, z in zip(words_upper,words_lower,word_len)]\n",
    "print (list_of_all)\n",
    "words_four = []\n",
    "[words_four.append(item) for item in words if len(item)>=4]\n",
    "print (words_four)"
   ]
  }
 ],
 "metadata": {
  "kernelspec": {
   "display_name": "Python 3 (ipykernel)",
   "language": "python",
   "name": "python3"
  },
  "language_info": {
   "codemirror_mode": {
    "name": "ipython",
    "version": 3
   },
   "file_extension": ".py",
   "mimetype": "text/x-python",
   "name": "python",
   "nbconvert_exporter": "python",
   "pygments_lexer": "ipython3",
   "version": "3.9.7"
  }
 },
 "nbformat": 4,
 "nbformat_minor": 5
}
